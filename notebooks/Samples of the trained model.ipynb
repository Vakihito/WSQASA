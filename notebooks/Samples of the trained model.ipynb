{
  "nbformat": 4,
  "nbformat_minor": 0,
  "metadata": {
    "colab": {
      "provenance": []
    },
    "kernelspec": {
      "name": "python3",
      "display_name": "Python 3"
    },
    "language_info": {
      "name": "python"
    }
  },
  "cells": [
    {
      "cell_type": "code",
      "source": [
        "%%capture\n",
        "!pip install transformers==4.22.2 datasets==2.5.1 "
      ],
      "metadata": {
        "id": "5A8yW0ILe2To"
      },
      "execution_count": 1,
      "outputs": []
    },
    {
      "cell_type": "code",
      "source": [
        "## downloads a finetuned WSQASA model\n",
        "!gdown 1H861aaCnK3-ROg38wO1BBdZipx8aBDJC\n",
        "!unzip \"WSQASA finetuned model.zip\""
      ],
      "metadata": {
        "id": "OCQA5Kzjfe6t",
        "colab": {
          "base_uri": "https://localhost:8080/"
        },
        "outputId": "08abca6d-1425-439c-c230-847b27bcde5c"
      },
      "execution_count": 2,
      "outputs": [
        {
          "output_type": "stream",
          "name": "stdout",
          "text": [
            "Downloading...\n",
            "From: https://drive.google.com/uc?id=1H861aaCnK3-ROg38wO1BBdZipx8aBDJC\n",
            "To: /content/WSQASA finetuned model.zip\n",
            "100% 800M/800M [00:05<00:00, 150MB/s]\n",
            "Archive:  WSQASA finetuned model.zip\n",
            "   creating: WSQASA finetuned model/\n",
            "  inflating: WSQASA finetuned model/vocab.txt  \n",
            "  inflating: WSQASA finetuned model/config.json  \n",
            "  inflating: WSQASA finetuned model/tokenizer.json  \n",
            "  inflating: WSQASA finetuned model/pytorch_model.bin  \n",
            "  inflating: WSQASA finetuned model/special_tokens_map.json  \n",
            "  inflating: WSQASA finetuned model/tokenizer_config.json  \n",
            "  inflating: WSQASA finetuned model/model_tweet_qa.pt  \n"
          ]
        }
      ]
    },
    {
      "cell_type": "code",
      "source": [
        "input_model_path = \"/content/WSQASA finetuned model\""
      ],
      "metadata": {
        "id": "2pQL6aULfRvb"
      },
      "execution_count": 3,
      "outputs": []
    },
    {
      "cell_type": "code",
      "source": [
        "from transformers import AutoModelForQuestionAnswering\n",
        "from transformers import AutoTokenizer"
      ],
      "metadata": {
        "id": "88Trxqf3ezug"
      },
      "execution_count": 4,
      "outputs": []
    },
    {
      "cell_type": "code",
      "source": [
        "model = AutoModelForQuestionAnswering.from_pretrained(input_model_path) # loading the model\n",
        "tokenizer = AutoTokenizer.from_pretrained(input_model_path)                # loading the tokenizer\n",
        "pad_on_right = tokenizer.padding_side == \"right\""
      ],
      "metadata": {
        "id": "m7F4_kgVe38X"
      },
      "execution_count": 5,
      "outputs": []
    },
    {
      "cell_type": "code",
      "execution_count": 6,
      "metadata": {
        "id": "ELdAAF_-a-9A"
      },
      "outputs": [],
      "source": [
        "from transformers import pipeline\n",
        "model.cpu()\n",
        "question_answerer = pipeline(\"question-answering\", model=model, tokenizer=tokenizer)"
      ]
    },
    {
      "cell_type": "code",
      "source": [
        "context = \"\"\"\n",
        "The main problem with the phone is it's battery\n",
        "\"\"\"\n",
        "question = \"\"\"\n",
        "what is the problems with the phone ?\n",
        "\"\"\"\n",
        "question_answerer(question=question, context=context)['answer']"
      ],
      "metadata": {
        "id": "qZhJOBrQe7ew",
        "colab": {
          "base_uri": "https://localhost:8080/",
          "height": 36
        },
        "outputId": "0983c3ae-e048-4f92-c5ae-748d229be3fc"
      },
      "execution_count": 7,
      "outputs": [
        {
          "output_type": "execute_result",
          "data": {
            "text/plain": [
              "'battery'"
            ],
            "application/vnd.google.colaboratory.intrinsic+json": {
              "type": "string"
            }
          },
          "metadata": {},
          "execution_count": 7
        }
      ]
    },
    {
      "cell_type": "code",
      "source": [
        "# Tweet qa example\n",
        "context = \"\"\"\n",
        "Hate speech was found on the side of #EMU's King Hall this morning. Follow the #EasternEcho for updates. c — The Eastern Echo (@TheEasternEcho) September 20, 2016\n",
        "\"\"\"\n",
        "question = \"\"\"\n",
        "what was found on the side of the hall ?\n",
        "\"\"\"\n",
        "question_answerer(question=question, context=context)['answer']"
      ],
      "metadata": {
        "colab": {
          "base_uri": "https://localhost:8080/",
          "height": 36
        },
        "id": "E21r94XZy_WG",
        "outputId": "58b874eb-8ad4-4615-de30-ebc5ba7fd6d1"
      },
      "execution_count": 47,
      "outputs": [
        {
          "output_type": "execute_result",
          "data": {
            "text/plain": [
              "'Hate speech'"
            ],
            "application/vnd.google.colaboratory.intrinsic+json": {
              "type": "string"
            }
          },
          "metadata": {},
          "execution_count": 47
        }
      ]
    },
    {
      "cell_type": "code",
      "source": [
        "# QED example\n",
        "context = \"\"\"\n",
        "Holly and Gerry are a married couple who live on the Lower East Side of Manhattan . They are deeply in love , but they fight occasionally . By winter that year , Gerry suddenly dies of a brain tumor , and Holly realizes how much he meant to her as well as how insignificant their arguments were .\n",
        "\"\"\"\n",
        "question = \"\"\"\n",
        "how did gerry in ps i love you die ?\n",
        "\"\"\"\n",
        "question_answerer(question=question, context=context)['answer']"
      ],
      "metadata": {
        "colab": {
          "base_uri": "https://localhost:8080/",
          "height": 36
        },
        "id": "TdCHCefbzj6l",
        "outputId": "99cb15b9-ec74-4dac-b1ad-2bdf37a7c265"
      },
      "execution_count": 48,
      "outputs": [
        {
          "output_type": "execute_result",
          "data": {
            "text/plain": [
              "'brain tumor'"
            ],
            "application/vnd.google.colaboratory.intrinsic+json": {
              "type": "string"
            }
          },
          "metadata": {},
          "execution_count": 48
        }
      ]
    },
    {
      "cell_type": "code",
      "source": [
        "# coqa example\n",
        "context = \"\"\"\n",
        "Peggy Hilt wanted to be a good mother. But day after day, she got out of bed feeling like a failure. No matter what she tried, she couldn't connect with Nina, the 2-year -old girl she'd adopted from Russia as an infant . The preschooler pulled away whenever Hilt tried to hug or kiss her. Nina was physically aggressive with her 4-year-old sister, who had been adopted from Ukraine, and had violent tantrums . Whenever Hilt wasn't watching, she destroyed the family's furniture and possessions. \"Every day with Nina had become a struggle,\" she recalls now. \n",
        "\n",
        "As the girl grew older, things got worse. Hilt fell into a deep depression. She started drinking heavily, something she'd never done before. Ashamed, she hid her problem from everyone, including her husband. \n",
        "\n",
        "On the morning of July 1, 2005, Hilt was packing for a family vocation, all the while swallowing one beer after another and growing increasingly angry and impatient with Nina's deeds. \"Everything she did just got to me,\" Hilt said. When Hilt caught her reaching into her diaper and smearing feces on the walls and furniture, \"a year and a half of frustration came to a head,\" Hilt says. \"I snapped . I felt this uncontrollable rage.\" \n",
        "\n",
        "Then Hilt did something unthinkable. She grabbed Nina around the neck, shook her and then dropped her to the floor, where she kicked her repeatedly before dragging her up to her room, punching her as they went. \"I had never hit a child before,\" she says. \"I felt horrible and promised myself that this would never happen again.\" But _ . Nina woke up with a fever, and then started throwing up. The next day she stopped breathing. By the time the ambulance got the child to the hospital, she was dead. \n",
        "\n",
        "Hilt is now serving a 19-year sentence for second-degree murder in a Virginia prison. She and her husband divorced, and he is raising their other daughter. She realizes the horror of her crime and says she isn't looking for sympathy. \"There is no punishment severe enough for what I did,\" she told NEWSWEEK in an interview at the prison.\n",
        "\"\"\"\n",
        "question = \"\"\"\n",
        "What ilness was the mom suffering from?\n",
        "\"\"\"\n",
        "question_answerer(question=question, context=context)['answer']"
      ],
      "metadata": {
        "colab": {
          "base_uri": "https://localhost:8080/",
          "height": 36
        },
        "id": "Mja_5mQl1uCA",
        "outputId": "0a834089-dbfe-4e55-dc77-3c04b3b09d89"
      },
      "execution_count": 61,
      "outputs": [
        {
          "output_type": "execute_result",
          "data": {
            "text/plain": [
              "'depression'"
            ],
            "application/vnd.google.colaboratory.intrinsic+json": {
              "type": "string"
            }
          },
          "metadata": {},
          "execution_count": 61
        }
      ]
    }
  ]
}